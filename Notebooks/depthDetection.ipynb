{
 "cells": [
  {
   "cell_type": "code",
   "execution_count": null,
   "id": "eeb34faf",
   "metadata": {},
   "outputs": [],
   "source": [
    "import cv2\n",
    "import pyrealsense2\n",
    "from realsense_depth import *\n",
    "import time"
   ]
  },
  {
   "cell_type": "code",
   "execution_count": null,
   "id": "d0ded492",
   "metadata": {},
   "outputs": [],
   "source": [
    "point = (400, 300)\n",
    "\n",
    "def show_distance(event, x, y, args, params):\n",
    "    global point\n",
    "    point = (x, y)\n",
    "\n",
    "# Initialize Camera Intel Realsense\n",
    "dc = DepthCamera()\n",
    "\n",
    "# Create mouse event\n",
    "cv2.namedWindow(\"Color frame\")\n",
    "cv2.setMouseCallback(\"Color frame\", show_distance)\n",
    "\n",
    "while True:\n",
    "    start_time = time.time() # start time of the loop\n",
    "    ret, depth_frame,depth_color_frame, color_frame = dc.get_frame()\n",
    "    #depth_image = np.asanyarray(depth_frame.get_data())\n",
    "    #depth_colormap = cv2.applyColorMap(cv2.convertScaleAbs(depth_image, alpha=0.03), cv2.COLORMAP_JET)\n",
    "    # Show distance for a specific point\n",
    "    cv2.circle(color_frame, point, 4, (0, 0, 255))\n",
    "    distance = depth_frame[point[1], point[0]]\n",
    "    print(\"distance\",distance)\n",
    "    cv2.putText(color_frame, \"{}cm\".format(distance/10), (point[0], point[1] - 20), cv2.FONT_HERSHEY_PLAIN, 2, (0, 0, 0), 2)\n",
    "    #cv2.imshow(\"depth frame\", depth_colormap)\n",
    "    cv2.imshow(\"depth frame\", depth_color_frame)\n",
    "    cv2.imshow(\"Color frame\", color_frame)\n",
    "    divisor = time.time() - start_time\n",
    "    if divisor!=0:\n",
    "        print(\"FPS: \", 1.0 / (divisor)) # FPS = 1 / time to process loop\n",
    "    if cv2.waitKey(1) & 0xFF == ord('q'):    \n",
    "        break\n",
    "    "
   ]
  },
  {
   "cell_type": "code",
   "execution_count": null,
   "id": "922ce8f1",
   "metadata": {},
   "outputs": [],
   "source": []
  }
 ],
 "metadata": {
  "kernelspec": {
   "display_name": "Python 3 (ipykernel)",
   "language": "python",
   "name": "python3"
  },
  "language_info": {
   "codemirror_mode": {
    "name": "ipython",
    "version": 3
   },
   "file_extension": ".py",
   "mimetype": "text/x-python",
   "name": "python",
   "nbconvert_exporter": "python",
   "pygments_lexer": "ipython3",
   "version": "3.7.11"
  }
 },
 "nbformat": 4,
 "nbformat_minor": 5
}
